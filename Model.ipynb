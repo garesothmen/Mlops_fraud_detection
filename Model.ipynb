{
 "cells": [
  {
   "cell_type": "code",
   "execution_count": 1,
   "id": "b5e45820",
   "metadata": {},
   "outputs": [],
   "source": [
    "import pandas as pd\n",
    "import numpy as np\n",
    "import seaborn as sns\n",
    "from sklearn.compose import ColumnTransformer\n",
    "from sklearn.linear_model import LogisticRegression\n",
    "from sklearn.metrics import confusion_matrix\n",
    "from sklearn.metrics import roc_curve\n",
    "from sklearn.metrics import roc_auc_score\n",
    "from sklearn.metrics import classification_report\n",
    "import  statsmodels.api as sm\n",
    "import matplotlib.pyplot as plt\n",
    "import os"
   ]
  },
  {
   "cell_type": "code",
   "execution_count": 2,
   "id": "71befcde",
   "metadata": {},
   "outputs": [
    {
     "name": "stdout",
     "output_type": "stream",
     "text": [
      "['fraudTest.csv', 'fraudTrain.csv', 'X_test.csv', 'X_train.csv', 'y_test.csv', 'y_train.csv']\n"
     ]
    }
   ],
   "source": [
    "print(os.listdir(\"data/\"))"
   ]
  },
  {
   "cell_type": "code",
   "execution_count": 3,
   "id": "36d6026c",
   "metadata": {},
   "outputs": [
    {
     "name": "stderr",
     "output_type": "stream",
     "text": [
      "C:\\Users\\MSI\\anaconda3\\lib\\site-packages\\numpy\\lib\\arraysetops.py:583: FutureWarning: elementwise comparison failed; returning scalar instead, but in the future will perform elementwise comparison\n",
      "  mask |= (ar1 == a)\n"
     ]
    }
   ],
   "source": [
    "X_train=pd.read_csv(\"data/X_train.csv\",index_col=0)\n",
    "y_train=pd.read_csv(\"data/y_train.csv\",index_col=0)[\"is_fraud\"]\n",
    "X_test=pd.read_csv(\"data/X_test.csv\",index_col=0)\n",
    "y_test=pd.read_csv(\"data/y_test.csv\",index_col=0)[\"is_fraud\"]"
   ]
  },
  {
   "cell_type": "code",
   "execution_count": 4,
   "id": "c46d46f4",
   "metadata": {
    "scrolled": false
   },
   "outputs": [
    {
     "data": {
      "text/plain": [
       "0.8681429665156392"
      ]
     },
     "execution_count": 4,
     "metadata": {},
     "output_type": "execute_result"
    }
   ],
   "source": [
    "regressor=LogisticRegression()\n",
    "regressor.fit(X_train,y_train)\n",
    "regressor.score(X_train,y_train)"
   ]
  },
  {
   "cell_type": "code",
   "execution_count": 5,
   "id": "b77ad008",
   "metadata": {},
   "outputs": [
    {
     "data": {
      "text/html": [
       "<div>\n",
       "<style scoped>\n",
       "    .dataframe tbody tr th:only-of-type {\n",
       "        vertical-align: middle;\n",
       "    }\n",
       "\n",
       "    .dataframe tbody tr th {\n",
       "        vertical-align: top;\n",
       "    }\n",
       "\n",
       "    .dataframe thead th {\n",
       "        text-align: right;\n",
       "    }\n",
       "</style>\n",
       "<table border=\"1\" class=\"dataframe\">\n",
       "  <thead>\n",
       "    <tr style=\"text-align: right;\">\n",
       "      <th></th>\n",
       "      <th>trans_date_trans_time</th>\n",
       "      <th>cc_num</th>\n",
       "      <th>merchant</th>\n",
       "      <th>category</th>\n",
       "      <th>amt</th>\n",
       "      <th>first</th>\n",
       "      <th>last</th>\n",
       "      <th>gender</th>\n",
       "      <th>street</th>\n",
       "      <th>city</th>\n",
       "      <th>state</th>\n",
       "      <th>zip</th>\n",
       "      <th>lat</th>\n",
       "      <th>long</th>\n",
       "      <th>city_pop</th>\n",
       "      <th>job</th>\n",
       "      <th>dob</th>\n",
       "      <th>unix_time</th>\n",
       "      <th>merch_lat</th>\n",
       "      <th>merch_long</th>\n",
       "    </tr>\n",
       "  </thead>\n",
       "  <tbody>\n",
       "    <tr>\n",
       "      <th>0</th>\n",
       "      <td>0</td>\n",
       "      <td>444</td>\n",
       "      <td>514</td>\n",
       "      <td>8</td>\n",
       "      <td>397</td>\n",
       "      <td>162</td>\n",
       "      <td>18</td>\n",
       "      <td>0</td>\n",
       "      <td>568</td>\n",
       "      <td>526</td>\n",
       "      <td>27</td>\n",
       "      <td>265</td>\n",
       "      <td>291</td>\n",
       "      <td>693</td>\n",
       "      <td>458</td>\n",
       "      <td>370</td>\n",
       "      <td>779</td>\n",
       "      <td>0</td>\n",
       "      <td>390185</td>\n",
       "      <td>861455</td>\n",
       "    </tr>\n",
       "    <tr>\n",
       "      <th>1</th>\n",
       "      <td>1</td>\n",
       "      <td>42</td>\n",
       "      <td>241</td>\n",
       "      <td>4</td>\n",
       "      <td>10623</td>\n",
       "      <td>309</td>\n",
       "      <td>157</td>\n",
       "      <td>0</td>\n",
       "      <td>435</td>\n",
       "      <td>612</td>\n",
       "      <td>47</td>\n",
       "      <td>965</td>\n",
       "      <td>964</td>\n",
       "      <td>60</td>\n",
       "      <td>43</td>\n",
       "      <td>428</td>\n",
       "      <td>607</td>\n",
       "      <td>1</td>\n",
       "      <td>1241513</td>\n",
       "      <td>78062</td>\n",
       "    </tr>\n",
       "    <tr>\n",
       "      <th>2</th>\n",
       "      <td>2</td>\n",
       "      <td>237</td>\n",
       "      <td>390</td>\n",
       "      <td>0</td>\n",
       "      <td>21906</td>\n",
       "      <td>115</td>\n",
       "      <td>381</td>\n",
       "      <td>1</td>\n",
       "      <td>602</td>\n",
       "      <td>468</td>\n",
       "      <td>13</td>\n",
       "      <td>858</td>\n",
       "      <td>736</td>\n",
       "      <td>88</td>\n",
       "      <td>486</td>\n",
       "      <td>307</td>\n",
       "      <td>302</td>\n",
       "      <td>2</td>\n",
       "      <td>1033312</td>\n",
       "      <td>119047</td>\n",
       "    </tr>\n",
       "    <tr>\n",
       "      <th>3</th>\n",
       "      <td>3</td>\n",
       "      <td>509</td>\n",
       "      <td>360</td>\n",
       "      <td>2</td>\n",
       "      <td>4400</td>\n",
       "      <td>163</td>\n",
       "      <td>463</td>\n",
       "      <td>1</td>\n",
       "      <td>930</td>\n",
       "      <td>84</td>\n",
       "      <td>26</td>\n",
       "      <td>614</td>\n",
       "      <td>931</td>\n",
       "      <td>91</td>\n",
       "      <td>367</td>\n",
       "      <td>328</td>\n",
       "      <td>397</td>\n",
       "      <td>3</td>\n",
       "      <td>1208203</td>\n",
       "      <td>115592</td>\n",
       "    </tr>\n",
       "    <tr>\n",
       "      <th>4</th>\n",
       "      <td>4</td>\n",
       "      <td>368</td>\n",
       "      <td>297</td>\n",
       "      <td>9</td>\n",
       "      <td>4096</td>\n",
       "      <td>336</td>\n",
       "      <td>149</td>\n",
       "      <td>1</td>\n",
       "      <td>418</td>\n",
       "      <td>216</td>\n",
       "      <td>45</td>\n",
       "      <td>231</td>\n",
       "      <td>398</td>\n",
       "      <td>753</td>\n",
       "      <td>22</td>\n",
       "      <td>116</td>\n",
       "      <td>734</td>\n",
       "      <td>4</td>\n",
       "      <td>557938</td>\n",
       "      <td>1027546</td>\n",
       "    </tr>\n",
       "  </tbody>\n",
       "</table>\n",
       "</div>"
      ],
      "text/plain": [
       "   trans_date_trans_time  cc_num  merchant  category    amt  first  last  \\\n",
       "0                      0     444       514         8    397    162    18   \n",
       "1                      1      42       241         4  10623    309   157   \n",
       "2                      2     237       390         0  21906    115   381   \n",
       "3                      3     509       360         2   4400    163   463   \n",
       "4                      4     368       297         9   4096    336   149   \n",
       "\n",
       "   gender  street  city  state  zip  lat  long  city_pop  job  dob  unix_time  \\\n",
       "0       0     568   526     27  265  291   693       458  370  779          0   \n",
       "1       0     435   612     47  965  964    60        43  428  607          1   \n",
       "2       1     602   468     13  858  736    88       486  307  302          2   \n",
       "3       1     930    84     26  614  931    91       367  328  397          3   \n",
       "4       1     418   216     45  231  398   753        22  116  734          4   \n",
       "\n",
       "   merch_lat  merch_long  \n",
       "0     390185      861455  \n",
       "1    1241513       78062  \n",
       "2    1033312      119047  \n",
       "3    1208203      115592  \n",
       "4     557938     1027546  "
      ]
     },
     "execution_count": 5,
     "metadata": {},
     "output_type": "execute_result"
    }
   ],
   "source": [
    "X_train.head()"
   ]
  },
  {
   "cell_type": "code",
   "execution_count": 6,
   "id": "040303fa",
   "metadata": {},
   "outputs": [],
   "source": [
    "y_pred =regressor.predict(X_test)"
   ]
  },
  {
   "cell_type": "code",
   "execution_count": 7,
   "id": "35115c91",
   "metadata": {},
   "outputs": [],
   "source": [
    "conf=confusion_matrix(y_test,y_pred)"
   ]
  },
  {
   "cell_type": "code",
   "execution_count": 8,
   "id": "1462f5aa",
   "metadata": {},
   "outputs": [
    {
     "data": {
      "text/plain": [
       "array([1.00233627, 6.42080013])"
      ]
     },
     "execution_count": 8,
     "metadata": {},
     "output_type": "execute_result"
    }
   ],
   "source": [
    "acc=(conf[0][0]+conf[1][1])/sum(conf)\n",
    "acc"
   ]
  },
  {
   "cell_type": "code",
   "execution_count": 9,
   "id": "19d2758a",
   "metadata": {},
   "outputs": [
    {
     "data": {
      "text/plain": [
       "0.7617715617715618"
      ]
     },
     "execution_count": 9,
     "metadata": {},
     "output_type": "execute_result"
    }
   ],
   "source": [
    "spec=conf[1][1]/(conf[1][1]+conf[1][0])\n",
    "spec"
   ]
  },
  {
   "cell_type": "code",
   "execution_count": 10,
   "id": "e9762469",
   "metadata": {},
   "outputs": [],
   "source": [
    "y_pred_prob=regressor.predict_proba(X_test)\n"
   ]
  },
  {
   "cell_type": "code",
   "execution_count": 11,
   "id": "daf3b3d4",
   "metadata": {},
   "outputs": [
    {
     "data": {
      "text/plain": [
       "(array([[ 11433.,   8448.,  11848.,  16836.,  26473.,  47884.,  91184.,\n",
       "         145826., 183422.,  12365.],\n",
       "        [ 12365., 183422., 145826.,  91184.,  47884.,  26473.,  16836.,\n",
       "          11848.,   8448.,  11433.]]),\n",
       " array([0.01416477, 0.11133182, 0.20849886, 0.30566591, 0.40283295,\n",
       "        0.5       , 0.59716705, 0.69433409, 0.79150114, 0.88866818,\n",
       "        0.98583523]),\n",
       " <a list of 2 BarContainer objects>)"
      ]
     },
     "execution_count": 11,
     "metadata": {},
     "output_type": "execute_result"
    },
    {
     "data": {
      "image/png": "[encoded data removed]",
      "text/plain": [
       "<Figure size 432x288 with 1 Axes>"
      ]
     },
     "metadata": {
      "needs_background": "light"
     },
     "output_type": "display_data"
    }
   ],
   "source": [
    "plt.hist(y_pred_prob)"
   ]
  },
  {
   "cell_type": "code",
   "execution_count": 12,
   "id": "7ba9eec2",
   "metadata": {
    "scrolled": false
   },
   "outputs": [
    {
     "data": {
      "text/plain": [
       "(array([ 10957.,   7772.,  10574.,  14737.,  21715.,  36267.,  68614.,\n",
       "        111548., 177851.,  95684.]),\n",
       " array([0.01416477, 0.10564264, 0.19712051, 0.28859837, 0.38007624,\n",
       "        0.47155411, 0.56303198, 0.65450985, 0.74598771, 0.83746558,\n",
       "        0.92894345]),\n",
       " <BarContainer object of 10 artists>)"
      ]
     },
     "execution_count": 12,
     "metadata": {},
     "output_type": "execute_result"
    },
    {
     "data": {
      "image/png": "[encoded data removed]",
      "text/plain": [
       "<Figure size 432x288 with 1 Axes>"
      ]
     },
     "metadata": {
      "needs_background": "light"
     },
     "output_type": "display_data"
    }
   ],
   "source": [
    "plt.hist(y_pred_prob[:,0],color=\"#ab56b6\")"
   ]
  },
  {
   "cell_type": "code",
   "execution_count": 13,
   "id": "96fc368a",
   "metadata": {},
   "outputs": [
    {
     "data": {
      "text/plain": [
       "(array([ 95684., 177851., 111548.,  68614.,  36267.,  21715.,  14737.,\n",
       "         10574.,   7772.,  10957.]),\n",
       " array([0.07105655, 0.16253442, 0.25401229, 0.34549015, 0.43696802,\n",
       "        0.52844589, 0.61992376, 0.71140163, 0.80287949, 0.89435736,\n",
       "        0.98583523]),\n",
       " <BarContainer object of 10 artists>)"
      ]
     },
     "execution_count": 13,
     "metadata": {},
     "output_type": "execute_result"
    },
    {
     "data": {
      "image/png": "[encoded data removed]",
      "text/plain": [
       "<Figure size 432x288 with 1 Axes>"
      ]
     },
     "metadata": {
      "needs_background": "light"
     },
     "output_type": "display_data"
    }
   ],
   "source": [
    "plt.hist(y_pred_prob[:,1],color=\"red\")"
   ]
  },
  {
   "cell_type": "code",
   "execution_count": 14,
   "id": "e79d3816",
   "metadata": {},
   "outputs": [
    {
     "data": {
      "text/plain": [
       "[<matplotlib.lines.Line2D at 0x1d0132cedf0>]"
      ]
     },
     "execution_count": 14,
     "metadata": {},
     "output_type": "execute_result"
    },
    {
     "data": {
      "image/png": "[encoded data removed]",
      "text/plain": [
       "<Figure size 432x288 with 1 Axes>"
      ]
     },
     "metadata": {
      "needs_background": "light"
     },
     "output_type": "display_data"
    }
   ],
   "source": [
    "y_pred2=regressor.predict_proba(X_test)[:,1]\n",
    "fpr,tpr,thr=roc_curve(y_test,y_pred2)\n",
    "plt.plot(fpr,tpr)"
   ]
  },
  {
   "cell_type": "code",
   "execution_count": 15,
   "id": "41d3cf93",
   "metadata": {},
   "outputs": [
    {
     "data": {
      "text/plain": [
       "0.8669921309150848"
      ]
     },
     "execution_count": 15,
     "metadata": {},
     "output_type": "execute_result"
    }
   ],
   "source": [
    "regressor.score(X_test,y_test)"
   ]
  },
  {
   "cell_type": "code",
   "execution_count": null,
   "id": "a3838521",
   "metadata": {},
   "outputs": [],
   "source": []
  }
 ],
 "metadata": {
  "kernelspec": {
   "display_name": "Python 3",
   "language": "python",
   "name": "python3"
  },
  "language_info": {
   "codemirror_mode": {
    "name": "ipython",
    "version": 3
   },
   "file_extension": ".py",
   "mimetype": "text/x-python",
   "name": "python",
   "nbconvert_exporter": "python",
   "pygments_lexer": "ipython3",
   "version": "3.8.8"
  }
 },
 "nbformat": 4,
 "nbformat_minor": 5
}
