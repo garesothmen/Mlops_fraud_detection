{
 "cells": [
  {
   "cell_type": "code",
   "execution_count": 1,
   "id": "2da06e83",
   "metadata": {},
   "outputs": [],
   "source": [
    "import pandas as pd \n",
    "import numpy as np \n",
    "import matplotlib.pyplot as plt \n",
    "import seaborn \n",
    "import datetime\n",
    "import seaborn as sn \n",
    "import os"
   ]
  },
  {
   "cell_type": "code",
   "execution_count": 2,
   "id": "8378ecca",
   "metadata": {
    "scrolled": true
   },
   "outputs": [
    {
     "name": "stderr",
     "output_type": "stream",
     "text": [
      "C:\\Users\\MSI\\anaconda3\\lib\\site-packages\\numpy\\lib\\arraysetops.py:583: FutureWarning: elementwise comparison failed; returning scalar instead, but in the future will perform elementwise comparison\n",
      "  mask |= (ar1 == a)\n"
     ]
    }
   ],
   "source": [
    "train=pd.read_csv(\"data/fraudTrain.csv\",index_col=0)"
   ]
  },
  {
   "cell_type": "code",
   "execution_count": 3,
   "id": "f79b0965",
   "metadata": {},
   "outputs": [],
   "source": [
    "test=pd.read_csv(\"data//fraudTest.csv\",index_col=0)"
   ]
  },
  {
   "cell_type": "code",
   "execution_count": 4,
   "id": "4d6b66b1",
   "metadata": {},
   "outputs": [
    {
     "data": {
      "text/html": [
       "<div>\n",
       "<style scoped>\n",
       "    .dataframe tbody tr th:only-of-type {\n",
       "        vertical-align: middle;\n",
       "    }\n",
       "\n",
       "    .dataframe tbody tr th {\n",
       "        vertical-align: top;\n",
       "    }\n",
       "\n",
       "    .dataframe thead th {\n",
       "        text-align: right;\n",
       "    }\n",
       "</style>\n",
       "<table border=\"1\" class=\"dataframe\">\n",
       "  <thead>\n",
       "    <tr style=\"text-align: right;\">\n",
       "      <th></th>\n",
       "      <th>cc_num</th>\n",
       "      <th>amt</th>\n",
       "      <th>zip</th>\n",
       "      <th>lat</th>\n",
       "      <th>long</th>\n",
       "      <th>city_pop</th>\n",
       "      <th>unix_time</th>\n",
       "      <th>merch_lat</th>\n",
       "      <th>merch_long</th>\n",
       "      <th>is_fraud</th>\n",
       "    </tr>\n",
       "  </thead>\n",
       "  <tbody>\n",
       "    <tr>\n",
       "      <th>count</th>\n",
       "      <td>1.296675e+06</td>\n",
       "      <td>1.296675e+06</td>\n",
       "      <td>1.296675e+06</td>\n",
       "      <td>1.296675e+06</td>\n",
       "      <td>1.296675e+06</td>\n",
       "      <td>1.296675e+06</td>\n",
       "      <td>1.296675e+06</td>\n",
       "      <td>1.296675e+06</td>\n",
       "      <td>1.296675e+06</td>\n",
       "      <td>1.296675e+06</td>\n",
       "    </tr>\n",
       "    <tr>\n",
       "      <th>mean</th>\n",
       "      <td>4.171920e+17</td>\n",
       "      <td>7.035104e+01</td>\n",
       "      <td>4.880067e+04</td>\n",
       "      <td>3.853762e+01</td>\n",
       "      <td>-9.022634e+01</td>\n",
       "      <td>8.882444e+04</td>\n",
       "      <td>1.349244e+09</td>\n",
       "      <td>3.853734e+01</td>\n",
       "      <td>-9.022646e+01</td>\n",
       "      <td>5.788652e-03</td>\n",
       "    </tr>\n",
       "    <tr>\n",
       "      <th>std</th>\n",
       "      <td>1.308806e+18</td>\n",
       "      <td>1.603160e+02</td>\n",
       "      <td>2.689322e+04</td>\n",
       "      <td>5.075808e+00</td>\n",
       "      <td>1.375908e+01</td>\n",
       "      <td>3.019564e+05</td>\n",
       "      <td>1.284128e+07</td>\n",
       "      <td>5.109788e+00</td>\n",
       "      <td>1.377109e+01</td>\n",
       "      <td>7.586269e-02</td>\n",
       "    </tr>\n",
       "    <tr>\n",
       "      <th>min</th>\n",
       "      <td>6.041621e+10</td>\n",
       "      <td>1.000000e+00</td>\n",
       "      <td>1.257000e+03</td>\n",
       "      <td>2.002710e+01</td>\n",
       "      <td>-1.656723e+02</td>\n",
       "      <td>2.300000e+01</td>\n",
       "      <td>1.325376e+09</td>\n",
       "      <td>1.902779e+01</td>\n",
       "      <td>-1.666712e+02</td>\n",
       "      <td>0.000000e+00</td>\n",
       "    </tr>\n",
       "    <tr>\n",
       "      <th>25%</th>\n",
       "      <td>1.800429e+14</td>\n",
       "      <td>9.650000e+00</td>\n",
       "      <td>2.623700e+04</td>\n",
       "      <td>3.462050e+01</td>\n",
       "      <td>-9.679800e+01</td>\n",
       "      <td>7.430000e+02</td>\n",
       "      <td>1.338751e+09</td>\n",
       "      <td>3.473357e+01</td>\n",
       "      <td>-9.689728e+01</td>\n",
       "      <td>0.000000e+00</td>\n",
       "    </tr>\n",
       "    <tr>\n",
       "      <th>50%</th>\n",
       "      <td>3.521417e+15</td>\n",
       "      <td>4.752000e+01</td>\n",
       "      <td>4.817400e+04</td>\n",
       "      <td>3.935430e+01</td>\n",
       "      <td>-8.747690e+01</td>\n",
       "      <td>2.456000e+03</td>\n",
       "      <td>1.349250e+09</td>\n",
       "      <td>3.936568e+01</td>\n",
       "      <td>-8.743839e+01</td>\n",
       "      <td>0.000000e+00</td>\n",
       "    </tr>\n",
       "    <tr>\n",
       "      <th>75%</th>\n",
       "      <td>4.642255e+15</td>\n",
       "      <td>8.314000e+01</td>\n",
       "      <td>7.204200e+04</td>\n",
       "      <td>4.194040e+01</td>\n",
       "      <td>-8.015800e+01</td>\n",
       "      <td>2.032800e+04</td>\n",
       "      <td>1.359385e+09</td>\n",
       "      <td>4.195716e+01</td>\n",
       "      <td>-8.023680e+01</td>\n",
       "      <td>0.000000e+00</td>\n",
       "    </tr>\n",
       "    <tr>\n",
       "      <th>max</th>\n",
       "      <td>4.992346e+18</td>\n",
       "      <td>2.894890e+04</td>\n",
       "      <td>9.978300e+04</td>\n",
       "      <td>6.669330e+01</td>\n",
       "      <td>-6.795030e+01</td>\n",
       "      <td>2.906700e+06</td>\n",
       "      <td>1.371817e+09</td>\n",
       "      <td>6.751027e+01</td>\n",
       "      <td>-6.695090e+01</td>\n",
       "      <td>1.000000e+00</td>\n",
       "    </tr>\n",
       "  </tbody>\n",
       "</table>\n",
       "</div>"
      ],
      "text/plain": [
       "             cc_num           amt           zip           lat          long  \\\n",
       "count  1.296675e+06  1.296675e+06  1.296675e+06  1.296675e+06  1.296675e+06   \n",
       "mean   4.171920e+17  7.035104e+01  4.880067e+04  3.853762e+01 -9.022634e+01   \n",
       "std    1.308806e+18  1.603160e+02  2.689322e+04  5.075808e+00  1.375908e+01   \n",
       "min    6.041621e+10  1.000000e+00  1.257000e+03  2.002710e+01 -1.656723e+02   \n",
       "25%    1.800429e+14  9.650000e+00  2.623700e+04  3.462050e+01 -9.679800e+01   \n",
       "50%    3.521417e+15  4.752000e+01  4.817400e+04  3.935430e+01 -8.747690e+01   \n",
       "75%    4.642255e+15  8.314000e+01  7.204200e+04  4.194040e+01 -8.015800e+01   \n",
       "max    4.992346e+18  2.894890e+04  9.978300e+04  6.669330e+01 -6.795030e+01   \n",
       "\n",
       "           city_pop     unix_time     merch_lat    merch_long      is_fraud  \n",
       "count  1.296675e+06  1.296675e+06  1.296675e+06  1.296675e+06  1.296675e+06  \n",
       "mean   8.882444e+04  1.349244e+09  3.853734e+01 -9.022646e+01  5.788652e-03  \n",
       "std    3.019564e+05  1.284128e+07  5.109788e+00  1.377109e+01  7.586269e-02  \n",
       "min    2.300000e+01  1.325376e+09  1.902779e+01 -1.666712e+02  0.000000e+00  \n",
       "25%    7.430000e+02  1.338751e+09  3.473357e+01 -9.689728e+01  0.000000e+00  \n",
       "50%    2.456000e+03  1.349250e+09  3.936568e+01 -8.743839e+01  0.000000e+00  \n",
       "75%    2.032800e+04  1.359385e+09  4.195716e+01 -8.023680e+01  0.000000e+00  \n",
       "max    2.906700e+06  1.371817e+09  6.751027e+01 -6.695090e+01  1.000000e+00  "
      ]
     },
     "execution_count": 4,
     "metadata": {},
     "output_type": "execute_result"
    }
   ],
   "source": [
    "train.describe()"
   ]
  },
  {
   "cell_type": "code",
   "execution_count": 5,
   "id": "423fbc9f",
   "metadata": {},
   "outputs": [
    {
     "data": {
      "text/plain": [
       "(1296675, 22)"
      ]
     },
     "execution_count": 5,
     "metadata": {},
     "output_type": "execute_result"
    }
   ],
   "source": [
    "train.shape"
   ]
  },
  {
   "cell_type": "code",
   "execution_count": 6,
   "id": "03e38f46",
   "metadata": {},
   "outputs": [
    {
     "data": {
      "text/html": [
       "<div>\n",
       "<style scoped>\n",
       "    .dataframe tbody tr th:only-of-type {\n",
       "        vertical-align: middle;\n",
       "    }\n",
       "\n",
       "    .dataframe tbody tr th {\n",
       "        vertical-align: top;\n",
       "    }\n",
       "\n",
       "    .dataframe thead th {\n",
       "        text-align: right;\n",
       "    }\n",
       "</style>\n",
       "<table border=\"1\" class=\"dataframe\">\n",
       "  <thead>\n",
       "    <tr style=\"text-align: right;\">\n",
       "      <th></th>\n",
       "      <th>trans_date_trans_time</th>\n",
       "      <th>cc_num</th>\n",
       "      <th>merchant</th>\n",
       "      <th>category</th>\n",
       "      <th>amt</th>\n",
       "      <th>first</th>\n",
       "      <th>last</th>\n",
       "      <th>gender</th>\n",
       "      <th>street</th>\n",
       "      <th>city</th>\n",
       "      <th>...</th>\n",
       "      <th>lat</th>\n",
       "      <th>long</th>\n",
       "      <th>city_pop</th>\n",
       "      <th>job</th>\n",
       "      <th>dob</th>\n",
       "      <th>trans_num</th>\n",
       "      <th>unix_time</th>\n",
       "      <th>merch_lat</th>\n",
       "      <th>merch_long</th>\n",
       "      <th>is_fraud</th>\n",
       "    </tr>\n",
       "  </thead>\n",
       "  <tbody>\n",
       "    <tr>\n",
       "      <th>0</th>\n",
       "      <td>2019-01-01 00:00:18</td>\n",
       "      <td>2703186189652095</td>\n",
       "      <td>fraud_Rippin, Kub and Mann</td>\n",
       "      <td>misc_net</td>\n",
       "      <td>4.97</td>\n",
       "      <td>Jennifer</td>\n",
       "      <td>Banks</td>\n",
       "      <td>F</td>\n",
       "      <td>561 Perry Cove</td>\n",
       "      <td>Moravian Falls</td>\n",
       "      <td>...</td>\n",
       "      <td>36.0788</td>\n",
       "      <td>-81.1781</td>\n",
       "      <td>3495</td>\n",
       "      <td>Psychologist, counselling</td>\n",
       "      <td>1988-03-09</td>\n",
       "      <td>0b242abb623afc578575680df30655b9</td>\n",
       "      <td>1325376018</td>\n",
       "      <td>36.011293</td>\n",
       "      <td>-82.048315</td>\n",
       "      <td>0</td>\n",
       "    </tr>\n",
       "    <tr>\n",
       "      <th>1</th>\n",
       "      <td>2019-01-01 00:00:44</td>\n",
       "      <td>630423337322</td>\n",
       "      <td>fraud_Heller, Gutmann and Zieme</td>\n",
       "      <td>grocery_pos</td>\n",
       "      <td>107.23</td>\n",
       "      <td>Stephanie</td>\n",
       "      <td>Gill</td>\n",
       "      <td>F</td>\n",
       "      <td>43039 Riley Greens Suite 393</td>\n",
       "      <td>Orient</td>\n",
       "      <td>...</td>\n",
       "      <td>48.8878</td>\n",
       "      <td>-118.2105</td>\n",
       "      <td>149</td>\n",
       "      <td>Special educational needs teacher</td>\n",
       "      <td>1978-06-21</td>\n",
       "      <td>1f76529f8574734946361c461b024d99</td>\n",
       "      <td>1325376044</td>\n",
       "      <td>49.159047</td>\n",
       "      <td>-118.186462</td>\n",
       "      <td>0</td>\n",
       "    </tr>\n",
       "    <tr>\n",
       "      <th>2</th>\n",
       "      <td>2019-01-01 00:00:51</td>\n",
       "      <td>38859492057661</td>\n",
       "      <td>fraud_Lind-Buckridge</td>\n",
       "      <td>entertainment</td>\n",
       "      <td>220.11</td>\n",
       "      <td>Edward</td>\n",
       "      <td>Sanchez</td>\n",
       "      <td>M</td>\n",
       "      <td>594 White Dale Suite 530</td>\n",
       "      <td>Malad City</td>\n",
       "      <td>...</td>\n",
       "      <td>42.1808</td>\n",
       "      <td>-112.2620</td>\n",
       "      <td>4154</td>\n",
       "      <td>Nature conservation officer</td>\n",
       "      <td>1962-01-19</td>\n",
       "      <td>a1a22d70485983eac12b5b88dad1cf95</td>\n",
       "      <td>1325376051</td>\n",
       "      <td>43.150704</td>\n",
       "      <td>-112.154481</td>\n",
       "      <td>0</td>\n",
       "    </tr>\n",
       "    <tr>\n",
       "      <th>3</th>\n",
       "      <td>2019-01-01 00:01:16</td>\n",
       "      <td>3534093764340240</td>\n",
       "      <td>fraud_Kutch, Hermiston and Farrell</td>\n",
       "      <td>gas_transport</td>\n",
       "      <td>45.00</td>\n",
       "      <td>Jeremy</td>\n",
       "      <td>White</td>\n",
       "      <td>M</td>\n",
       "      <td>9443 Cynthia Court Apt. 038</td>\n",
       "      <td>Boulder</td>\n",
       "      <td>...</td>\n",
       "      <td>46.2306</td>\n",
       "      <td>-112.1138</td>\n",
       "      <td>1939</td>\n",
       "      <td>Patent attorney</td>\n",
       "      <td>1967-01-12</td>\n",
       "      <td>6b849c168bdad6f867558c3793159a81</td>\n",
       "      <td>1325376076</td>\n",
       "      <td>47.034331</td>\n",
       "      <td>-112.561071</td>\n",
       "      <td>0</td>\n",
       "    </tr>\n",
       "    <tr>\n",
       "      <th>4</th>\n",
       "      <td>2019-01-01 00:03:06</td>\n",
       "      <td>375534208663984</td>\n",
       "      <td>fraud_Keeling-Crist</td>\n",
       "      <td>misc_pos</td>\n",
       "      <td>41.96</td>\n",
       "      <td>Tyler</td>\n",
       "      <td>Garcia</td>\n",
       "      <td>M</td>\n",
       "      <td>408 Bradley Rest</td>\n",
       "      <td>Doe Hill</td>\n",
       "      <td>...</td>\n",
       "      <td>38.4207</td>\n",
       "      <td>-79.4629</td>\n",
       "      <td>99</td>\n",
       "      <td>Dance movement psychotherapist</td>\n",
       "      <td>1986-03-28</td>\n",
       "      <td>a41d7549acf90789359a9aa5346dcb46</td>\n",
       "      <td>1325376186</td>\n",
       "      <td>38.674999</td>\n",
       "      <td>-78.632459</td>\n",
       "      <td>0</td>\n",
       "    </tr>\n",
       "  </tbody>\n",
       "</table>\n",
       "<p>5 rows × 22 columns</p>\n",
       "</div>"
      ],
      "text/plain": [
       "  trans_date_trans_time            cc_num                            merchant  \\\n",
       "0   2019-01-01 00:00:18  2703186189652095          fraud_Rippin, Kub and Mann   \n",
       "1   2019-01-01 00:00:44      630423337322     fraud_Heller, Gutmann and Zieme   \n",
       "2   2019-01-01 00:00:51    38859492057661                fraud_Lind-Buckridge   \n",
       "3   2019-01-01 00:01:16  3534093764340240  fraud_Kutch, Hermiston and Farrell   \n",
       "4   2019-01-01 00:03:06   375534208663984                 fraud_Keeling-Crist   \n",
       "\n",
       "        category     amt      first     last gender  \\\n",
       "0       misc_net    4.97   Jennifer    Banks      F   \n",
       "1    grocery_pos  107.23  Stephanie     Gill      F   \n",
       "2  entertainment  220.11     Edward  Sanchez      M   \n",
       "3  gas_transport   45.00     Jeremy    White      M   \n",
       "4       misc_pos   41.96      Tyler   Garcia      M   \n",
       "\n",
       "                         street            city  ...      lat      long  \\\n",
       "0                561 Perry Cove  Moravian Falls  ...  36.0788  -81.1781   \n",
       "1  43039 Riley Greens Suite 393          Orient  ...  48.8878 -118.2105   \n",
       "2      594 White Dale Suite 530      Malad City  ...  42.1808 -112.2620   \n",
       "3   9443 Cynthia Court Apt. 038         Boulder  ...  46.2306 -112.1138   \n",
       "4              408 Bradley Rest        Doe Hill  ...  38.4207  -79.4629   \n",
       "\n",
       "   city_pop                                job         dob  \\\n",
       "0      3495          Psychologist, counselling  1988-03-09   \n",
       "1       149  Special educational needs teacher  1978-06-21   \n",
       "2      4154        Nature conservation officer  1962-01-19   \n",
       "3      1939                    Patent attorney  1967-01-12   \n",
       "4        99     Dance movement psychotherapist  1986-03-28   \n",
       "\n",
       "                          trans_num   unix_time  merch_lat  merch_long  \\\n",
       "0  0b242abb623afc578575680df30655b9  1325376018  36.011293  -82.048315   \n",
       "1  1f76529f8574734946361c461b024d99  1325376044  49.159047 -118.186462   \n",
       "2  a1a22d70485983eac12b5b88dad1cf95  1325376051  43.150704 -112.154481   \n",
       "3  6b849c168bdad6f867558c3793159a81  1325376076  47.034331 -112.561071   \n",
       "4  a41d7549acf90789359a9aa5346dcb46  1325376186  38.674999  -78.632459   \n",
       "\n",
       "   is_fraud  \n",
       "0         0  \n",
       "1         0  \n",
       "2         0  \n",
       "3         0  \n",
       "4         0  \n",
       "\n",
       "[5 rows x 22 columns]"
      ]
     },
     "execution_count": 6,
     "metadata": {},
     "output_type": "execute_result"
    }
   ],
   "source": [
    "train.head()"
   ]
  },
  {
   "cell_type": "code",
   "execution_count": 7,
   "id": "18b55355",
   "metadata": {},
   "outputs": [],
   "source": [
    "corr=train.corr()"
   ]
  },
  {
   "cell_type": "code",
   "execution_count": 8,
   "id": "bb66b60c",
   "metadata": {
    "scrolled": true
   },
   "outputs": [
    {
     "data": {
      "text/html": [
       "<style  type=\"text/css\" >\n",
       "#T_44598_row0_col0,#T_44598_row1_col1,#T_44598_row2_col2,#T_44598_row3_col3,#T_44598_row4_col4,#T_44598_row4_col8,#T_44598_row5_col5,#T_44598_row6_col6,#T_44598_row7_col7,#T_44598_row8_col4,#T_44598_row8_col8,#T_44598_row9_col9{\n",
       "            background-color:  #b40426;\n",
       "            color:  #f1f1f1;\n",
       "        }#T_44598_row0_col1,#T_44598_row2_col1,#T_44598_row2_col4,#T_44598_row2_col8,#T_44598_row2_col9,#T_44598_row3_col0,#T_44598_row3_col1,#T_44598_row3_col5,#T_44598_row4_col1,#T_44598_row4_col2,#T_44598_row5_col3,#T_44598_row5_col6,#T_44598_row5_col7,#T_44598_row6_col1,#T_44598_row6_col9,#T_44598_row7_col0,#T_44598_row7_col1,#T_44598_row7_col5,#T_44598_row8_col1,#T_44598_row8_col2,#T_44598_row9_col6{\n",
       "            background-color:  #3b4cc0;\n",
       "            color:  #f1f1f1;\n",
       "        }#T_44598_row0_col2{\n",
       "            background-color:  #dcdddd;\n",
       "            color:  #000000;\n",
       "        }#T_44598_row0_col3,#T_44598_row0_col7{\n",
       "            background-color:  #5470de;\n",
       "            color:  #000000;\n",
       "        }#T_44598_row0_col4,#T_44598_row0_col8{\n",
       "            background-color:  #cfdaea;\n",
       "            color:  #000000;\n",
       "        }#T_44598_row0_col5{\n",
       "            background-color:  #6282ea;\n",
       "            color:  #000000;\n",
       "        }#T_44598_row0_col6,#T_44598_row0_col9,#T_44598_row1_col6,#T_44598_row2_col6,#T_44598_row3_col6,#T_44598_row3_col9,#T_44598_row4_col6,#T_44598_row4_col9,#T_44598_row5_col1,#T_44598_row5_col9,#T_44598_row7_col6,#T_44598_row7_col9,#T_44598_row8_col6,#T_44598_row8_col9{\n",
       "            background-color:  #3c4ec2;\n",
       "            color:  #f1f1f1;\n",
       "        }#T_44598_row1_col0,#T_44598_row6_col0,#T_44598_row9_col0{\n",
       "            background-color:  #4b64d5;\n",
       "            color:  #f1f1f1;\n",
       "        }#T_44598_row1_col2,#T_44598_row6_col2,#T_44598_row9_col4,#T_44598_row9_col8{\n",
       "            background-color:  #d7dce3;\n",
       "            color:  #000000;\n",
       "        }#T_44598_row1_col3,#T_44598_row6_col3,#T_44598_row6_col5,#T_44598_row6_col7,#T_44598_row9_col3,#T_44598_row9_col5,#T_44598_row9_col7{\n",
       "            background-color:  #6485ec;\n",
       "            color:  #000000;\n",
       "        }#T_44598_row1_col4,#T_44598_row1_col8,#T_44598_row6_col4,#T_44598_row6_col8,#T_44598_row9_col2{\n",
       "            background-color:  #d6dce4;\n",
       "            color:  #000000;\n",
       "        }#T_44598_row1_col5{\n",
       "            background-color:  #6687ed;\n",
       "            color:  #000000;\n",
       "        }#T_44598_row1_col7{\n",
       "            background-color:  #6384eb;\n",
       "            color:  #000000;\n",
       "        }#T_44598_row1_col9{\n",
       "            background-color:  #84a7fc;\n",
       "            color:  #000000;\n",
       "        }#T_44598_row2_col0{\n",
       "            background-color:  #5875e1;\n",
       "            color:  #000000;\n",
       "        }#T_44598_row2_col3,#T_44598_row2_col7{\n",
       "            background-color:  #455cce;\n",
       "            color:  #f1f1f1;\n",
       "        }#T_44598_row2_col5{\n",
       "            background-color:  #7b9ff9;\n",
       "            color:  #000000;\n",
       "        }#T_44598_row3_col2,#T_44598_row7_col2{\n",
       "            background-color:  #c5d6f2;\n",
       "            color:  #000000;\n",
       "        }#T_44598_row3_col4,#T_44598_row3_col8,#T_44598_row7_col4,#T_44598_row7_col8{\n",
       "            background-color:  #d4dbe6;\n",
       "            color:  #000000;\n",
       "        }#T_44598_row3_col7,#T_44598_row7_col3{\n",
       "            background-color:  #b50927;\n",
       "            color:  #f1f1f1;\n",
       "        }#T_44598_row4_col0,#T_44598_row8_col0{\n",
       "            background-color:  #3d50c3;\n",
       "            color:  #f1f1f1;\n",
       "        }#T_44598_row4_col3,#T_44598_row8_col3{\n",
       "            background-color:  #6180e9;\n",
       "            color:  #000000;\n",
       "        }#T_44598_row4_col5,#T_44598_row8_col5{\n",
       "            background-color:  #5572df;\n",
       "            color:  #000000;\n",
       "        }#T_44598_row4_col7,#T_44598_row8_col7{\n",
       "            background-color:  #5f7fe8;\n",
       "            color:  #000000;\n",
       "        }#T_44598_row5_col0{\n",
       "            background-color:  #4961d2;\n",
       "            color:  #f1f1f1;\n",
       "        }#T_44598_row5_col2{\n",
       "            background-color:  #e1dad6;\n",
       "            color:  #000000;\n",
       "        }#T_44598_row5_col4,#T_44598_row5_col8{\n",
       "            background-color:  #cedaeb;\n",
       "            color:  #000000;\n",
       "        }#T_44598_row9_col1{\n",
       "            background-color:  #82a6fb;\n",
       "            color:  #000000;\n",
       "        }</style><table id=\"T_44598_\" ><thead>    <tr>        <th class=\"blank level0\" ></th>        <th class=\"col_heading level0 col0\" >cc_num</th>        <th class=\"col_heading level0 col1\" >amt</th>        <th class=\"col_heading level0 col2\" >zip</th>        <th class=\"col_heading level0 col3\" >lat</th>        <th class=\"col_heading level0 col4\" >long</th>        <th class=\"col_heading level0 col5\" >city_pop</th>        <th class=\"col_heading level0 col6\" >unix_time</th>        <th class=\"col_heading level0 col7\" >merch_lat</th>        <th class=\"col_heading level0 col8\" >merch_long</th>        <th class=\"col_heading level0 col9\" >is_fraud</th>    </tr></thead><tbody>\n",
       "                <tr>\n",
       "                        <th id=\"T_44598_level0_row0\" class=\"row_heading level0 row0\" >cc_num</th>\n",
       "                        <td id=\"T_44598_row0_col0\" class=\"data row0 col0\" >1.000000</td>\n",
       "                        <td id=\"T_44598_row0_col1\" class=\"data row0 col1\" >0.001769</td>\n",
       "                        <td id=\"T_44598_row0_col2\" class=\"data row0 col2\" >0.041459</td>\n",
       "                        <td id=\"T_44598_row0_col3\" class=\"data row0 col3\" >-0.059271</td>\n",
       "                        <td id=\"T_44598_row0_col4\" class=\"data row0 col4\" >-0.048278</td>\n",
       "                        <td id=\"T_44598_row0_col5\" class=\"data row0 col5\" >-0.008991</td>\n",
       "                        <td id=\"T_44598_row0_col6\" class=\"data row0 col6\" >0.000354</td>\n",
       "                        <td id=\"T_44598_row0_col7\" class=\"data row0 col7\" >-0.058942</td>\n",
       "                        <td id=\"T_44598_row0_col8\" class=\"data row0 col8\" >-0.048252</td>\n",
       "                        <td id=\"T_44598_row0_col9\" class=\"data row0 col9\" >-0.000981</td>\n",
       "            </tr>\n",
       "            <tr>\n",
       "                        <th id=\"T_44598_level0_row1\" class=\"row_heading level0 row1\" >amt</th>\n",
       "                        <td id=\"T_44598_row1_col0\" class=\"data row1 col0\" >0.001769</td>\n",
       "                        <td id=\"T_44598_row1_col1\" class=\"data row1 col1\" >1.000000</td>\n",
       "                        <td id=\"T_44598_row1_col2\" class=\"data row1 col2\" >0.001843</td>\n",
       "                        <td id=\"T_44598_row1_col3\" class=\"data row1 col3\" >-0.001926</td>\n",
       "                        <td id=\"T_44598_row1_col4\" class=\"data row1 col4\" >-0.000187</td>\n",
       "                        <td id=\"T_44598_row1_col5\" class=\"data row1 col5\" >0.005818</td>\n",
       "                        <td id=\"T_44598_row1_col6\" class=\"data row1 col6\" >-0.000293</td>\n",
       "                        <td id=\"T_44598_row1_col7\" class=\"data row1 col7\" >-0.001873</td>\n",
       "                        <td id=\"T_44598_row1_col8\" class=\"data row1 col8\" >-0.000151</td>\n",
       "                        <td id=\"T_44598_row1_col9\" class=\"data row1 col9\" >0.219404</td>\n",
       "            </tr>\n",
       "            <tr>\n",
       "                        <th id=\"T_44598_level0_row2\" class=\"row_heading level0 row2\" >zip</th>\n",
       "                        <td id=\"T_44598_row2_col0\" class=\"data row2 col0\" >0.041459</td>\n",
       "                        <td id=\"T_44598_row2_col1\" class=\"data row2 col1\" >0.001843</td>\n",
       "                        <td id=\"T_44598_row2_col2\" class=\"data row2 col2\" >1.000000</td>\n",
       "                        <td id=\"T_44598_row2_col3\" class=\"data row2 col3\" >-0.114290</td>\n",
       "                        <td id=\"T_44598_row2_col4\" class=\"data row2 col4\" >-0.909732</td>\n",
       "                        <td id=\"T_44598_row2_col5\" class=\"data row2 col5\" >0.078467</td>\n",
       "                        <td id=\"T_44598_row2_col6\" class=\"data row2 col6\" >0.000670</td>\n",
       "                        <td id=\"T_44598_row2_col7\" class=\"data row2 col7\" >-0.113561</td>\n",
       "                        <td id=\"T_44598_row2_col8\" class=\"data row2 col8\" >-0.908924</td>\n",
       "                        <td id=\"T_44598_row2_col9\" class=\"data row2 col9\" >-0.002162</td>\n",
       "            </tr>\n",
       "            <tr>\n",
       "                        <th id=\"T_44598_level0_row3\" class=\"row_heading level0 row3\" >lat</th>\n",
       "                        <td id=\"T_44598_row3_col0\" class=\"data row3 col0\" >-0.059271</td>\n",
       "                        <td id=\"T_44598_row3_col1\" class=\"data row3 col1\" >-0.001926</td>\n",
       "                        <td id=\"T_44598_row3_col2\" class=\"data row3 col2\" >-0.114290</td>\n",
       "                        <td id=\"T_44598_row3_col3\" class=\"data row3 col3\" >1.000000</td>\n",
       "                        <td id=\"T_44598_row3_col4\" class=\"data row3 col4\" >-0.015533</td>\n",
       "                        <td id=\"T_44598_row3_col5\" class=\"data row3 col5\" >-0.155730</td>\n",
       "                        <td id=\"T_44598_row3_col6\" class=\"data row3 col6\" >0.000632</td>\n",
       "                        <td id=\"T_44598_row3_col7\" class=\"data row3 col7\" >0.993592</td>\n",
       "                        <td id=\"T_44598_row3_col8\" class=\"data row3 col8\" >-0.015509</td>\n",
       "                        <td id=\"T_44598_row3_col9\" class=\"data row3 col9\" >0.001894</td>\n",
       "            </tr>\n",
       "            <tr>\n",
       "                        <th id=\"T_44598_level0_row4\" class=\"row_heading level0 row4\" >long</th>\n",
       "                        <td id=\"T_44598_row4_col0\" class=\"data row4 col0\" >-0.048278</td>\n",
       "                        <td id=\"T_44598_row4_col1\" class=\"data row4 col1\" >-0.000187</td>\n",
       "                        <td id=\"T_44598_row4_col2\" class=\"data row4 col2\" >-0.909732</td>\n",
       "                        <td id=\"T_44598_row4_col3\" class=\"data row4 col3\" >-0.015533</td>\n",
       "                        <td id=\"T_44598_row4_col4\" class=\"data row4 col4\" >1.000000</td>\n",
       "                        <td id=\"T_44598_row4_col5\" class=\"data row4 col5\" >-0.052715</td>\n",
       "                        <td id=\"T_44598_row4_col6\" class=\"data row4 col6\" >-0.000642</td>\n",
       "                        <td id=\"T_44598_row4_col7\" class=\"data row4 col7\" >-0.015452</td>\n",
       "                        <td id=\"T_44598_row4_col8\" class=\"data row4 col8\" >0.999120</td>\n",
       "                        <td id=\"T_44598_row4_col9\" class=\"data row4 col9\" >0.001721</td>\n",
       "            </tr>\n",
       "            <tr>\n",
       "                        <th id=\"T_44598_level0_row5\" class=\"row_heading level0 row5\" >city_pop</th>\n",
       "                        <td id=\"T_44598_row5_col0\" class=\"data row5 col0\" >-0.008991</td>\n",
       "                        <td id=\"T_44598_row5_col1\" class=\"data row5 col1\" >0.005818</td>\n",
       "                        <td id=\"T_44598_row5_col2\" class=\"data row5 col2\" >0.078467</td>\n",
       "                        <td id=\"T_44598_row5_col3\" class=\"data row5 col3\" >-0.155730</td>\n",
       "                        <td id=\"T_44598_row5_col4\" class=\"data row5 col4\" >-0.052715</td>\n",
       "                        <td id=\"T_44598_row5_col5\" class=\"data row5 col5\" >1.000000</td>\n",
       "                        <td id=\"T_44598_row5_col6\" class=\"data row5 col6\" >-0.001714</td>\n",
       "                        <td id=\"T_44598_row5_col7\" class=\"data row5 col7\" >-0.154781</td>\n",
       "                        <td id=\"T_44598_row5_col8\" class=\"data row5 col8\" >-0.052687</td>\n",
       "                        <td id=\"T_44598_row5_col9\" class=\"data row5 col9\" >0.002136</td>\n",
       "            </tr>\n",
       "            <tr>\n",
       "                        <th id=\"T_44598_level0_row6\" class=\"row_heading level0 row6\" >unix_time</th>\n",
       "                        <td id=\"T_44598_row6_col0\" class=\"data row6 col0\" >0.000354</td>\n",
       "                        <td id=\"T_44598_row6_col1\" class=\"data row6 col1\" >-0.000293</td>\n",
       "                        <td id=\"T_44598_row6_col2\" class=\"data row6 col2\" >0.000670</td>\n",
       "                        <td id=\"T_44598_row6_col3\" class=\"data row6 col3\" >0.000632</td>\n",
       "                        <td id=\"T_44598_row6_col4\" class=\"data row6 col4\" >-0.000642</td>\n",
       "                        <td id=\"T_44598_row6_col5\" class=\"data row6 col5\" >-0.001714</td>\n",
       "                        <td id=\"T_44598_row6_col6\" class=\"data row6 col6\" >1.000000</td>\n",
       "                        <td id=\"T_44598_row6_col7\" class=\"data row6 col7\" >0.000561</td>\n",
       "                        <td id=\"T_44598_row6_col8\" class=\"data row6 col8\" >-0.000635</td>\n",
       "                        <td id=\"T_44598_row6_col9\" class=\"data row6 col9\" >-0.005078</td>\n",
       "            </tr>\n",
       "            <tr>\n",
       "                        <th id=\"T_44598_level0_row7\" class=\"row_heading level0 row7\" >merch_lat</th>\n",
       "                        <td id=\"T_44598_row7_col0\" class=\"data row7 col0\" >-0.058942</td>\n",
       "                        <td id=\"T_44598_row7_col1\" class=\"data row7 col1\" >-0.001873</td>\n",
       "                        <td id=\"T_44598_row7_col2\" class=\"data row7 col2\" >-0.113561</td>\n",
       "                        <td id=\"T_44598_row7_col3\" class=\"data row7 col3\" >0.993592</td>\n",
       "                        <td id=\"T_44598_row7_col4\" class=\"data row7 col4\" >-0.015452</td>\n",
       "                        <td id=\"T_44598_row7_col5\" class=\"data row7 col5\" >-0.154781</td>\n",
       "                        <td id=\"T_44598_row7_col6\" class=\"data row7 col6\" >0.000561</td>\n",
       "                        <td id=\"T_44598_row7_col7\" class=\"data row7 col7\" >1.000000</td>\n",
       "                        <td id=\"T_44598_row7_col8\" class=\"data row7 col8\" >-0.015431</td>\n",
       "                        <td id=\"T_44598_row7_col9\" class=\"data row7 col9\" >0.001741</td>\n",
       "            </tr>\n",
       "            <tr>\n",
       "                        <th id=\"T_44598_level0_row8\" class=\"row_heading level0 row8\" >merch_long</th>\n",
       "                        <td id=\"T_44598_row8_col0\" class=\"data row8 col0\" >-0.048252</td>\n",
       "                        <td id=\"T_44598_row8_col1\" class=\"data row8 col1\" >-0.000151</td>\n",
       "                        <td id=\"T_44598_row8_col2\" class=\"data row8 col2\" >-0.908924</td>\n",
       "                        <td id=\"T_44598_row8_col3\" class=\"data row8 col3\" >-0.015509</td>\n",
       "                        <td id=\"T_44598_row8_col4\" class=\"data row8 col4\" >0.999120</td>\n",
       "                        <td id=\"T_44598_row8_col5\" class=\"data row8 col5\" >-0.052687</td>\n",
       "                        <td id=\"T_44598_row8_col6\" class=\"data row8 col6\" >-0.000635</td>\n",
       "                        <td id=\"T_44598_row8_col7\" class=\"data row8 col7\" >-0.015431</td>\n",
       "                        <td id=\"T_44598_row8_col8\" class=\"data row8 col8\" >1.000000</td>\n",
       "                        <td id=\"T_44598_row8_col9\" class=\"data row8 col9\" >0.001721</td>\n",
       "            </tr>\n",
       "            <tr>\n",
       "                        <th id=\"T_44598_level0_row9\" class=\"row_heading level0 row9\" >is_fraud</th>\n",
       "                        <td id=\"T_44598_row9_col0\" class=\"data row9 col0\" >-0.000981</td>\n",
       "                        <td id=\"T_44598_row9_col1\" class=\"data row9 col1\" >0.219404</td>\n",
       "                        <td id=\"T_44598_row9_col2\" class=\"data row9 col2\" >-0.002162</td>\n",
       "                        <td id=\"T_44598_row9_col3\" class=\"data row9 col3\" >0.001894</td>\n",
       "                        <td id=\"T_44598_row9_col4\" class=\"data row9 col4\" >0.001721</td>\n",
       "                        <td id=\"T_44598_row9_col5\" class=\"data row9 col5\" >0.002136</td>\n",
       "                        <td id=\"T_44598_row9_col6\" class=\"data row9 col6\" >-0.005078</td>\n",
       "                        <td id=\"T_44598_row9_col7\" class=\"data row9 col7\" >0.001741</td>\n",
       "                        <td id=\"T_44598_row9_col8\" class=\"data row9 col8\" >0.001721</td>\n",
       "                        <td id=\"T_44598_row9_col9\" class=\"data row9 col9\" >1.000000</td>\n",
       "            </tr>\n",
       "    </tbody></table>"
      ],
      "text/plain": [
       "<pandas.io.formats.style.Styler at 0x225998f1940>"
      ]
     },
     "execution_count": 8,
     "metadata": {},
     "output_type": "execute_result"
    }
   ],
   "source": [
    "corr.style.background_gradient(cmap='coolwarm')"
   ]
  },
  {
   "cell_type": "code",
   "execution_count": 9,
   "id": "a2ac8af3",
   "metadata": {
    "scrolled": false
   },
   "outputs": [
    {
     "data": {
      "text/plain": [
       "<AxesSubplot:>"
      ]
     },
     "execution_count": 9,
     "metadata": {},
     "output_type": "execute_result"
    },
    {
     "data": {
      "image/png": "[encoded data removed]",
      "text/plain": [
       "<Figure size 432x288 with 2 Axes>"
      ]
     },
     "metadata": {
      "needs_background": "light"
     },
     "output_type": "display_data"
    }
   ],
   "source": [
    "sn.heatmap(corr)"
   ]
  },
  {
   "cell_type": "code",
   "execution_count": 10,
   "id": "ce81d0f9",
   "metadata": {
    "scrolled": false
   },
   "outputs": [
    {
     "data": {
      "image/png": "[encoded data removed]",
      "text/plain": [
       "<Figure size 432x288 with 1 Axes>"
      ]
     },
     "metadata": {
      "needs_background": "light"
     },
     "output_type": "display_data"
    }
   ],
   "source": [
    "nu = train.nunique().reset_index()\n",
    "nu.columns = ['feature','nunique']\n",
    "ax = sn.barplot(x='feature', y='nunique', data=nu)"
   ]
  },
  {
   "cell_type": "code",
   "execution_count": 11,
   "id": "1918454a",
   "metadata": {
    "scrolled": false
   },
   "outputs": [
    {
     "data": {
      "text/html": [
       "<div>\n",
       "<style scoped>\n",
       "    .dataframe tbody tr th:only-of-type {\n",
       "        vertical-align: middle;\n",
       "    }\n",
       "\n",
       "    .dataframe tbody tr th {\n",
       "        vertical-align: top;\n",
       "    }\n",
       "\n",
       "    .dataframe thead th {\n",
       "        text-align: right;\n",
       "    }\n",
       "</style>\n",
       "<table border=\"1\" class=\"dataframe\">\n",
       "  <thead>\n",
       "    <tr style=\"text-align: right;\">\n",
       "      <th></th>\n",
       "      <th>feature</th>\n",
       "      <th>nunique</th>\n",
       "    </tr>\n",
       "  </thead>\n",
       "  <tbody>\n",
       "    <tr>\n",
       "      <th>0</th>\n",
       "      <td>trans_date_trans_time</td>\n",
       "      <td>1274791</td>\n",
       "    </tr>\n",
       "    <tr>\n",
       "      <th>1</th>\n",
       "      <td>cc_num</td>\n",
       "      <td>983</td>\n",
       "    </tr>\n",
       "    <tr>\n",
       "      <th>2</th>\n",
       "      <td>merchant</td>\n",
       "      <td>693</td>\n",
       "    </tr>\n",
       "    <tr>\n",
       "      <th>3</th>\n",
       "      <td>category</td>\n",
       "      <td>14</td>\n",
       "    </tr>\n",
       "    <tr>\n",
       "      <th>4</th>\n",
       "      <td>amt</td>\n",
       "      <td>52928</td>\n",
       "    </tr>\n",
       "    <tr>\n",
       "      <th>5</th>\n",
       "      <td>first</td>\n",
       "      <td>352</td>\n",
       "    </tr>\n",
       "    <tr>\n",
       "      <th>6</th>\n",
       "      <td>last</td>\n",
       "      <td>481</td>\n",
       "    </tr>\n",
       "    <tr>\n",
       "      <th>7</th>\n",
       "      <td>gender</td>\n",
       "      <td>2</td>\n",
       "    </tr>\n",
       "    <tr>\n",
       "      <th>8</th>\n",
       "      <td>street</td>\n",
       "      <td>983</td>\n",
       "    </tr>\n",
       "    <tr>\n",
       "      <th>9</th>\n",
       "      <td>city</td>\n",
       "      <td>894</td>\n",
       "    </tr>\n",
       "    <tr>\n",
       "      <th>10</th>\n",
       "      <td>state</td>\n",
       "      <td>51</td>\n",
       "    </tr>\n",
       "    <tr>\n",
       "      <th>11</th>\n",
       "      <td>zip</td>\n",
       "      <td>970</td>\n",
       "    </tr>\n",
       "    <tr>\n",
       "      <th>12</th>\n",
       "      <td>lat</td>\n",
       "      <td>968</td>\n",
       "    </tr>\n",
       "    <tr>\n",
       "      <th>13</th>\n",
       "      <td>long</td>\n",
       "      <td>969</td>\n",
       "    </tr>\n",
       "    <tr>\n",
       "      <th>14</th>\n",
       "      <td>city_pop</td>\n",
       "      <td>879</td>\n",
       "    </tr>\n",
       "    <tr>\n",
       "      <th>15</th>\n",
       "      <td>job</td>\n",
       "      <td>494</td>\n",
       "    </tr>\n",
       "    <tr>\n",
       "      <th>16</th>\n",
       "      <td>dob</td>\n",
       "      <td>968</td>\n",
       "    </tr>\n",
       "    <tr>\n",
       "      <th>17</th>\n",
       "      <td>trans_num</td>\n",
       "      <td>1296675</td>\n",
       "    </tr>\n",
       "    <tr>\n",
       "      <th>18</th>\n",
       "      <td>unix_time</td>\n",
       "      <td>1274823</td>\n",
       "    </tr>\n",
       "    <tr>\n",
       "      <th>19</th>\n",
       "      <td>merch_lat</td>\n",
       "      <td>1247805</td>\n",
       "    </tr>\n",
       "    <tr>\n",
       "      <th>20</th>\n",
       "      <td>merch_long</td>\n",
       "      <td>1275745</td>\n",
       "    </tr>\n",
       "    <tr>\n",
       "      <th>21</th>\n",
       "      <td>is_fraud</td>\n",
       "      <td>2</td>\n",
       "    </tr>\n",
       "  </tbody>\n",
       "</table>\n",
       "</div>"
      ],
      "text/plain": [
       "                  feature  nunique\n",
       "0   trans_date_trans_time  1274791\n",
       "1                  cc_num      983\n",
       "2                merchant      693\n",
       "3                category       14\n",
       "4                     amt    52928\n",
       "5                   first      352\n",
       "6                    last      481\n",
       "7                  gender        2\n",
       "8                  street      983\n",
       "9                    city      894\n",
       "10                  state       51\n",
       "11                    zip      970\n",
       "12                    lat      968\n",
       "13                   long      969\n",
       "14               city_pop      879\n",
       "15                    job      494\n",
       "16                    dob      968\n",
       "17              trans_num  1296675\n",
       "18              unix_time  1274823\n",
       "19              merch_lat  1247805\n",
       "20             merch_long  1275745\n",
       "21               is_fraud        2"
      ]
     },
     "execution_count": 11,
     "metadata": {},
     "output_type": "execute_result"
    }
   ],
   "source": [
    "nu"
   ]
  },
  {
   "cell_type": "code",
   "execution_count": 12,
   "id": "bc52a6e7",
   "metadata": {
    "scrolled": true
   },
   "outputs": [
    {
     "data": {
      "text/plain": [
       "Index(['trans_date_trans_time', 'cc_num', 'merchant', 'category', 'amt',\n",
       "       'first', 'last', 'gender', 'street', 'city', 'state', 'zip', 'lat',\n",
       "       'long', 'city_pop', 'job', 'dob', 'trans_num', 'unix_time', 'merch_lat',\n",
       "       'merch_long', 'is_fraud'],\n",
       "      dtype='object')"
      ]
     },
     "execution_count": 12,
     "metadata": {},
     "output_type": "execute_result"
    }
   ],
   "source": [
    "train.columns"
   ]
  },
  {
   "cell_type": "code",
   "execution_count": 13,
   "id": "23e45b6a",
   "metadata": {},
   "outputs": [],
   "source": [
    "dict= {}\n",
    "for c in train.columns:\n",
    "    dict[c]=train[c].value_counts()\n"
   ]
  },
  {
   "cell_type": "code",
   "execution_count": 14,
   "id": "5b87e166",
   "metadata": {
    "scrolled": true
   },
   "outputs": [
    {
     "data": {
      "text/plain": [
       "{'trans_date_trans_time': 2020-06-01 01:37:47    4\n",
       " 2020-06-02 12:47:07    4\n",
       " 2019-04-22 16:02:01    4\n",
       " 2019-09-02 20:34:43    3\n",
       " 2020-04-27 15:38:34    3\n",
       "                       ..\n",
       " 2019-06-19 02:38:32    1\n",
       " 2019-01-26 08:24:26    1\n",
       " 2019-03-07 17:35:37    1\n",
       " 2019-08-19 20:32:15    1\n",
       " 2020-01-16 05:49:47    1\n",
       " Name: trans_date_trans_time, Length: 1274791, dtype: int64,\n",
       " 'cc_num': 571365235126           3123\n",
       " 4512828414983801773    3123\n",
       " 36722699017270         3119\n",
       " 213112402583773        3117\n",
       " 3545109339866548       3113\n",
       "                        ... \n",
       " 340187018810220           7\n",
       " 4975457191020             7\n",
       " 3545578418030657          7\n",
       " 4734310647841293          7\n",
       " 4714017207228610634       7\n",
       " Name: cc_num, Length: 983, dtype: int64,\n",
       " 'merchant': fraud_Kilback LLC                       4403\n",
       " fraud_Cormier LLC                       3649\n",
       " fraud_Schumm PLC                        3634\n",
       " fraud_Kuhn LLC                          3510\n",
       " fraud_Boyer PLC                         3493\n",
       "                                         ... \n",
       " fraud_Douglas, DuBuque and McKenzie      775\n",
       " fraud_Treutel-King                       775\n",
       " fraud_Medhurst, Labadie and Gottlieb     759\n",
       " fraud_Reichert-Weissnat                  753\n",
       " fraud_Hahn, Douglas and Schowalter       727\n",
       " Name: merchant, Length: 693, dtype: int64,\n",
       " 'category': gas_transport     131659\n",
       " grocery_pos       123638\n",
       " home              123115\n",
       " shopping_pos      116672\n",
       " kids_pets         113035\n",
       " shopping_net       97543\n",
       " entertainment      94014\n",
       " food_dining        91461\n",
       " personal_care      90758\n",
       " health_fitness     85879\n",
       " misc_pos           79655\n",
       " misc_net           63287\n",
       " grocery_net        45452\n",
       " travel             40507\n",
       " Name: category, dtype: int64,\n",
       " 'amt': 1.14       542\n",
       " 1.04       538\n",
       " 1.25       535\n",
       " 1.02       533\n",
       " 1.01       523\n",
       "           ... \n",
       " 721.54       1\n",
       " 765.63       1\n",
       " 538.87       1\n",
       " 1122.06      1\n",
       " 981.17       1\n",
       " Name: amt, Length: 52928, dtype: int64,\n",
       " 'first': Christopher    26669\n",
       " Robert         21667\n",
       " Jessica        20581\n",
       " James          20039\n",
       " Michael        20009\n",
       "                ...  \n",
       " Arthur             9\n",
       " Phyllis            8\n",
       " Molly              8\n",
       " Angelica           7\n",
       " Samantha           7\n",
       " Name: first, Length: 352, dtype: int64,\n",
       " 'last': Smith        28794\n",
       " Williams     23605\n",
       " Davis        21910\n",
       " Johnson      20034\n",
       " Rodriguez    17394\n",
       "              ...  \n",
       " Wells            9\n",
       " Peterson         9\n",
       " Strong           8\n",
       " Blake            7\n",
       " Schaefer         7\n",
       " Name: last, Length: 481, dtype: int64,\n",
       " 'gender': F    709863\n",
       " M    586812\n",
       " Name: gender, dtype: int64,\n",
       " 'street': 864 Reynolds Plains                  3123\n",
       " 0069 Robin Brooks Apt. 695           3123\n",
       " 8172 Robertson Parkways Suite 072    3119\n",
       " 4664 Sanchez Common Suite 930        3117\n",
       " 8030 Beck Motorway                   3113\n",
       "                                      ... \n",
       " 3307 Ferguson Way                       7\n",
       " 4940 Donald Throughway Apt. 219         7\n",
       " 5273 Joseph Isle Suite 518              7\n",
       " 27954 Hall Mill Suite 575               7\n",
       " 300 Hodge Loaf                          7\n",
       " Name: street, Length: 983, dtype: int64,\n",
       " 'city': Birmingham     5617\n",
       " San Antonio    5130\n",
       " Utica          5105\n",
       " Phoenix        5075\n",
       " Meridian       5060\n",
       "                ... \n",
       " Norfolk           7\n",
       " Bruce             7\n",
       " Claypool          7\n",
       " Karns City        7\n",
       " Streator          7\n",
       " Name: city, Length: 894, dtype: int64,\n",
       " 'state': TX    94876\n",
       " NY    83501\n",
       " PA    79847\n",
       " CA    56360\n",
       " OH    46480\n",
       " MI    46154\n",
       " IL    43252\n",
       " FL    42671\n",
       " AL    40989\n",
       " MO    38403\n",
       " MN    31714\n",
       " AR    31127\n",
       " NC    30266\n",
       " WI    29368\n",
       " VA    29250\n",
       " SC    29190\n",
       " KY    28475\n",
       " IN    27580\n",
       " IA    26985\n",
       " OK    26671\n",
       " MD    26193\n",
       " GA    26063\n",
       " WV    25691\n",
       " NJ    24603\n",
       " NE    24168\n",
       " KS    22996\n",
       " MS    21188\n",
       " LA    20965\n",
       " WY    19322\n",
       " WA    18924\n",
       " OR    18597\n",
       " TN    17554\n",
       " ME    16505\n",
       " NM    16407\n",
       " ND    14786\n",
       " CO    13880\n",
       " MA    12376\n",
       " SD    12324\n",
       " VT    11768\n",
       " MT    11754\n",
       " AZ    10770\n",
       " UT    10699\n",
       " NH     8278\n",
       " CT     7702\n",
       " NV     5607\n",
       " ID     5545\n",
       " DC     3613\n",
       " HI     2559\n",
       " AK     2120\n",
       " RI      550\n",
       " DE        9\n",
       " Name: state, dtype: int64,\n",
       " 'zip': 73754    3646\n",
       " 34112    3613\n",
       " 48088    3597\n",
       " 82514    3527\n",
       " 15484    3123\n",
       "          ... \n",
       " 61364       7\n",
       " 10018       7\n",
       " 95688       7\n",
       " 16041       7\n",
       " 46510       7\n",
       " Name: zip, Length: 970, dtype: int64,\n",
       " 'lat': 36.3850    3646\n",
       " 26.1184    3613\n",
       " 42.5164    3597\n",
       " 43.0048    3527\n",
       " 39.8936    3123\n",
       "            ... \n",
       " 41.1225       7\n",
       " 34.0066       7\n",
       " 29.7396       7\n",
       " 29.4400       7\n",
       " 41.0022       7\n",
       " Name: lat, Length: 968, dtype: int64,\n",
       " 'long': -98.0727     3646\n",
       " -81.7361     3613\n",
       " -82.9832     3597\n",
       " -108.8964    3527\n",
       " -86.2141     3123\n",
       "              ... \n",
       " -73.9925        7\n",
       " -85.8686        7\n",
       " -98.4590        7\n",
       " -85.2356        7\n",
       " -121.9887       7\n",
       " Name: long, Length: 969, dtype: int64,\n",
       " 'city_pop': 606        5496\n",
       " 1595797    5130\n",
       " 1312922    5075\n",
       " 1766       4574\n",
       " 241        4533\n",
       "            ... \n",
       " 198659        7\n",
       " 20133         7\n",
       " 1888          7\n",
       " 3631          7\n",
       " 242803        7\n",
       " Name: city_pop, Length: 879, dtype: int64,\n",
       " 'job': Film/video editor                 9779\n",
       " Exhibition designer               9199\n",
       " Naval architect                   8684\n",
       " Surveyor, land/geomatics          8680\n",
       " Materials engineer                8270\n",
       "                                   ... \n",
       " Armed forces technical officer       8\n",
       " Information officer                  8\n",
       " Warehouse manager                    7\n",
       " Ship broker                          7\n",
       " Contracting civil engineer           7\n",
       " Name: job, Length: 494, dtype: int64,\n",
       " 'dob': 1977-03-23    5636\n",
       " 1981-08-29    4636\n",
       " 1988-09-15    4623\n",
       " 1955-05-06    3661\n",
       " 1995-07-12    3123\n",
       "               ... \n",
       " 1999-10-26       7\n",
       " 1970-06-25       7\n",
       " 1962-03-14       7\n",
       " 1963-02-20       7\n",
       " 1949-02-15       7\n",
       " Name: dob, Length: 968, dtype: int64,\n",
       " 'trans_num': a66825f450637bda5d731454b3c3a050    1\n",
       " 502edea8eac1dc0818d8ff496c276fc2    1\n",
       " d6de837f8cffcacf93b2c67bbae4445b    1\n",
       " 935b30da9aa68d22a99b592003d16679    1\n",
       " cd44dbb4aabbc70e3edd0cbec6a04dcb    1\n",
       "                                    ..\n",
       " 17122690ea676c4af2430446757911a1    1\n",
       " 1afeb9b85f31cef28d5a35a084c82b2d    1\n",
       " 5d2f2d816a60acdea5a175e3c3d853fd    1\n",
       " 4417a6a5a1e396faf4e8d275e179fbd8    1\n",
       " 200bf1b85f6d27e78b4cdd83db2e8ae5    1\n",
       " Name: trans_num, Length: 1296675, dtype: int64,\n",
       " 'unix_time': 1335110521    4\n",
       " 1370050667    4\n",
       " 1370177227    4\n",
       " 1356890388    3\n",
       " 1371658603    3\n",
       "              ..\n",
       " 1348435640    1\n",
       " 1363299323    1\n",
       " 1363091124    1\n",
       " 1340024499    1\n",
       " 1367345151    1\n",
       " Name: unix_time, Length: 1274823, dtype: int64,\n",
       " 'merch_lat': 40.557026    4\n",
       " 38.895098    4\n",
       " 41.301611    4\n",
       " 38.714096    4\n",
       " 42.011951    4\n",
       "             ..\n",
       " 40.163049    1\n",
       " 42.860696    1\n",
       " 34.700357    1\n",
       " 42.021537    1\n",
       " 38.826764    1\n",
       " Name: merch_lat, Length: 1247805, dtype: int64,\n",
       " 'merch_long': -81.219189     4\n",
       " -74.618269     4\n",
       " -87.116414     4\n",
       " -91.051844     3\n",
       " -91.699352     3\n",
       "               ..\n",
       " -80.256526     1\n",
       " -110.563968    1\n",
       " -74.057065     1\n",
       " -92.183762     1\n",
       " -165.354810    1\n",
       " Name: merch_long, Length: 1275745, dtype: int64,\n",
       " 'is_fraud': 0    1289169\n",
       " 1       7506\n",
       " Name: is_fraud, dtype: int64}"
      ]
     },
     "execution_count": 14,
     "metadata": {},
     "output_type": "execute_result"
    }
   ],
   "source": [
    "dict"
   ]
  },
  {
   "cell_type": "code",
   "execution_count": 15,
   "id": "81a1294b",
   "metadata": {
    "scrolled": true
   },
   "outputs": [],
   "source": [
    "def showhist(df):\n",
    "    for x in df.columns:\n",
    "        plt.hist(dict[x])\n",
    "        plt.title(x)\n",
    "        plt.show()\n",
    "                   "
   ]
  },
  {
   "cell_type": "code",
   "execution_count": 16,
   "id": "7b8a6532",
   "metadata": {},
   "outputs": [
    {
     "data": {
      "image/png": "[encoded data removed]",
      "text/plain": [
       "<Figure size 432x288 with 1 Axes>"
      ]
     },
     "metadata": {
      "needs_background": "light"
     },
     "output_type": "display_data"
    },
    {
     "data": {
      "image/png": "[encoded data removed]",
      "text/plain": [
       "<Figure size 432x288 with 1 Axes>"
      ]
     },
     "metadata": {
      "needs_background": "light"
     },
     "output_type": "display_data"
    },
    {
     "data": {
      "image/png": "[encoded data removed]",
      "text/plain": [
       "<Figure size 432x288 with 1 Axes>"
      ]
     },
     "metadata": {
      "needs_background": "light"
     },
     "output_type": "display_data"
    },
    {
     "data": {
      "image/png": "[encoded data removed]",
      "text/plain": [
       "<Figure size 432x288 with 1 Axes>"
      ]
     },
     "metadata": {
      "needs_background": "light"
     },
     "output_type": "display_data"
    },
    {
     "data": {
      "image/png": "[encoded data removed]",
      "text/plain": [
       "<Figure size 432x288 with 1 Axes>"
      ]
     },
     "metadata": {
      "needs_background": "light"
     },
     "output_type": "display_data"
    },
    {
     "data": {
      "image/png": "[encoded data removed]",
      "text/plain": [
       "<Figure size 432x288 with 1 Axes>"
      ]
     },
     "metadata": {
      "needs_background": "light"
     },
     "output_type": "display_data"
    },
    {
     "data": {
      "image/png": "[encoded data removed]",
      "text/plain": [
       "<Figure size 432x288 with 1 Axes>"
      ]
     },
     "metadata": {
      "needs_background": "light"
     },
     "output_type": "display_data"
    },
    {
     "data": {
      "image/png": "[encoded data removed]",
      "text/plain": [
       "<Figure size 432x288 with 1 Axes>"
      ]
     },
     "metadata": {
      "needs_background": "light"
     },
     "output_type": "display_data"
    },
    {
     "data": {
      "image/png": "[encoded data removed]",
      "text/plain": [
       "<Figure size 432x288 with 1 Axes>"
      ]
     },
     "metadata": {
      "needs_background": "light"
     },
     "output_type": "display_data"
    },
    {
     "data": {
      "image/png": "[encoded data removed]",
      "text/plain": [
       "<Figure size 432x288 with 1 Axes>"
      ]
     },
     "metadata": {
      "needs_background": "light"
     },
     "output_type": "display_data"
    },
    {
     "data": {
      "image/png": "[encoded data removed]",
      "text/plain": [
       "<Figure size 432x288 with 1 Axes>"
      ]
     },
     "metadata": {
      "needs_background": "light"
     },
     "output_type": "display_data"
    },
    {
     "data": {
      "image/png": "[encoded data removed]",
      "text/plain": [
       "<Figure size 432x288 with 1 Axes>"
      ]
     },
     "metadata": {
      "needs_background": "light"
     },
     "output_type": "display_data"
    },
    {
     "data": {
      "image/png": "[encoded data removed]",
      "text/plain": [
       "<Figure size 432x288 with 1 Axes>"
      ]
     },
     "metadata": {
      "needs_background": "light"
     },
     "output_type": "display_data"
    },
    {
     "data": {
      "image/png": "[encoded data removed]",
      "text/plain": [
       "<Figure size 432x288 with 1 Axes>"
      ]
     },
     "metadata": {
      "needs_background": "light"
     },
     "output_type": "display_data"
    },
    {
     "data": {
      "image/png": "[encoded data removed]",
      "text/plain": [
       "<Figure size 432x288 with 1 Axes>"
      ]
     },
     "metadata": {
      "needs_background": "light"
     },
     "output_type": "display_data"
    },
    {
     "data": {
      "image/png": "[encoded data removed]",
      "text/plain": [
       "<Figure size 432x288 with 1 Axes>"
      ]
     },
     "metadata": {
      "needs_background": "light"
     },
     "output_type": "display_data"
    },
    {
     "data": {
      "image/png": "[encoded data removed]",
      "text/plain": [
       "<Figure size 432x288 with 1 Axes>"
      ]
     },
     "metadata": {
      "needs_background": "light"
     },
     "output_type": "display_data"
    },
    {
     "data": {
      "image/png": "[encoded data removed]",
      "text/plain": [
       "<Figure size 432x288 with 1 Axes>"
      ]
     },
     "metadata": {
      "needs_background": "light"
     },
     "output_type": "display_data"
    },
    {
     "data": {
      "image/png": "[encoded data removed]",
      "text/plain": [
       "<Figure size 432x288 with 1 Axes>"
      ]
     },
     "metadata": {
      "needs_background": "light"
     },
     "output_type": "display_data"
    },
    {
     "data": {
      "image/png": "[encoded data removed]",
      "text/plain": [
       "<Figure size 432x288 with 1 Axes>"
      ]
     },
     "metadata": {
      "needs_background": "light"
     },
     "output_type": "display_data"
    },
    {
     "data": {
      "image/png": "[encoded data removed]",
      "text/plain": [
       "<Figure size 432x288 with 1 Axes>"
      ]
     },
     "metadata": {
      "needs_background": "light"
     },
     "output_type": "display_data"
    },
    {
     "data": {
      "image/png": "[encoded data removed]",
      "text/plain": [
       "<Figure size 432x288 with 1 Axes>"
      ]
     },
     "metadata": {
      "needs_background": "light"
     },
     "output_type": "display_data"
    }
   ],
   "source": [
    "showhist(train)"
   ]
  },
  {
   "cell_type": "code",
   "execution_count": 17,
   "id": "1f33620e",
   "metadata": {},
   "outputs": [],
   "source": [
    "gtr=train['is_fraud'].groupby([train['category'],train['is_fraud']]).mean()"
   ]
  },
  {
   "cell_type": "code",
   "execution_count": 18,
   "id": "79d93160",
   "metadata": {},
   "outputs": [],
   "source": [
    "colors = sn.color_palette('pastel')\n",
    "labels=list(gtr.keys())"
   ]
  },
  {
   "cell_type": "code",
   "execution_count": 19,
   "id": "e5364e50",
   "metadata": {},
   "outputs": [],
   "source": [
    "values=[gtr[x] for x in labels]"
   ]
  },
  {
   "cell_type": "code",
   "execution_count": 20,
   "id": "d642a4b3",
   "metadata": {
    "scrolled": true
   },
   "outputs": [
    {
     "data": {
      "image/png": "[encoded data removed]",
      "text/plain": [
       "<Figure size 432x288 with 1 Axes>"
      ]
     },
     "metadata": {
      "needs_background": "light"
     },
     "output_type": "display_data"
    }
   ],
   "source": [
    "plt.hist(gtr)\n",
    "plt.show()"
   ]
  },
  {
   "cell_type": "code",
   "execution_count": 21,
   "id": "b892fc95",
   "metadata": {
    "scrolled": false
   },
   "outputs": [
    {
     "data": {
      "image/png": "[encoded data removed]",
      "text/plain": [
       "<Figure size 432x288 with 1 Axes>"
      ]
     },
     "metadata": {},
     "output_type": "display_data"
    }
   ],
   "source": [
    "plt.pie(values, labels =labels, colors = colors, autopct='%.0f%%')\n",
    "plt.show()"
   ]
  },
  {
   "cell_type": "code",
   "execution_count": 23,
   "id": "e6604d72",
   "metadata": {},
   "outputs": [],
   "source": [
    "def trainprerocessing(ctrain):\n",
    "    df=ctrain\n",
    "    df['trans_date_trans_time']=df['trans_date_trans_time'].apply(lambda x :datetime.datetime.timestamp(datetime.datetime.strptime(x, \"%Y-%m-%d %H:%M:%S\")) )\n",
    "    Y=df['is_fraud']\n",
    "    X=df.drop(['is_fraud','trans_num'],axis=1)\n",
    "    from sklearn import preprocessing\n",
    "    X=X.apply(preprocessing.LabelEncoder().fit_transform)\n",
    "    from imblearn.over_sampling import SMOTE\n",
    "    oversample = SMOTE()\n",
    "    X, y = oversample.fit_resample(X,Y)\n",
    "    Xfilepath= 'data/X_train.csv'\n",
    "    Yfilepath='data/y_train.csv'\n",
    "    X.to_csv(Xfilepath)\n",
    "    y.to_csv(Yfilepath)\n",
    "    "
   ]
  },
  {
   "cell_type": "code",
   "execution_count": 24,
   "id": "f277c0ba",
   "metadata": {},
   "outputs": [],
   "source": [
    "def testpreprocessing(ctest):\n",
    "    df=ctest\n",
    "    df['trans_date_trans_time']=df['trans_date_trans_time'].apply(lambda x :datetime.datetime.timestamp(datetime.datetime.strptime(x, \"%Y-%m-%d %H:%M:%S\")) )\n",
    "    Y=df['is_fraud']\n",
    "    X=df.drop(['is_fraud','trans_num'],axis=1)\n",
    "    from sklearn import preprocessing\n",
    "    X=X.apply(preprocessing.LabelEncoder().fit_transform)\n",
    "    Xfilepath= 'data/X_test.csv'\n",
    "    Yfilepath='data/y_test.csv'\n",
    "    X.to_csv(Xfilepath)\n",
    "    Y.to_csv(Yfilepath)"
   ]
  },
  {
   "cell_type": "code",
   "execution_count": 25,
   "id": "ca4f5359",
   "metadata": {},
   "outputs": [],
   "source": [
    "trainprerocessing(train)"
   ]
  },
  {
   "cell_type": "code",
   "execution_count": 26,
   "id": "cda469d6",
   "metadata": {},
   "outputs": [],
   "source": [
    "testpreprocessing(test)"
   ]
  },
  {
   "cell_type": "code",
   "execution_count": 27,
   "id": "5a5271ad",
   "metadata": {
    "scrolled": true
   },
   "outputs": [
    {
     "name": "stderr",
     "output_type": "stream",
     "text": [
      "C:\\Users\\MSI\\anaconda3\\lib\\site-packages\\numpy\\lib\\arraysetops.py:583: FutureWarning: elementwise comparison failed; returning scalar instead, but in the future will perform elementwise comparison\n",
      "  mask |= (ar1 == a)\n"
     ]
    }
   ],
   "source": [
    "y_train=pd.read_csv('data/y_train.csv',index_col=0)"
   ]
  },
  {
   "cell_type": "code",
   "execution_count": 22,
   "id": "2830548a",
   "metadata": {
    "scrolled": true
   },
   "outputs": [
    {
     "data": {
      "text/plain": [
       "(array([1289169.,       0.,       0.,       0.,       0.,       0.,\n",
       "              0.,       0.,       0.,    7506.]),\n",
       " array([0. , 0.1, 0.2, 0.3, 0.4, 0.5, 0.6, 0.7, 0.8, 0.9, 1. ]),\n",
       " <BarContainer object of 10 artists>)"
      ]
     },
     "execution_count": 22,
     "metadata": {},
     "output_type": "execute_result"
    },
    {
     "data": {
      "image/png": "[encoded data removed]",
      "text/plain": [
       "<Figure size 432x288 with 1 Axes>"
      ]
     },
     "metadata": {
      "needs_background": "light"
     },
     "output_type": "display_data"
    }
   ],
   "source": [
    "plt.hist(train['is_fraud'])"
   ]
  },
  {
   "cell_type": "code",
   "execution_count": 28,
   "id": "b1295006",
   "metadata": {
    "scrolled": true
   },
   "outputs": [
    {
     "data": {
      "text/plain": [
       "(array([1289169.,       0.,       0.,       0.,       0.,       0.,\n",
       "              0.,       0.,       0., 1289169.]),\n",
       " array([0. , 0.1, 0.2, 0.3, 0.4, 0.5, 0.6, 0.7, 0.8, 0.9, 1. ]),\n",
       " <BarContainer object of 10 artists>)"
      ]
     },
     "execution_count": 28,
     "metadata": {},
     "output_type": "execute_result"
    },
    {
     "data": {
      "image/png": "[encoded data removed]",
      "text/plain": [
       "<Figure size 432x288 with 1 Axes>"
      ]
     },
     "metadata": {
      "needs_background": "light"
     },
     "output_type": "display_data"
    }
   ],
   "source": [
    "plt.hist(y_train['is_fraud'])"
   ]
  },
  {
   "cell_type": "code",
   "execution_count": 29,
   "id": "9aa10e1c",
   "metadata": {},
   "outputs": [
    {
     "data": {
      "text/plain": [
       "(array([553574.,      0.,      0.,      0.,      0.,      0.,      0.,\n",
       "             0.,      0.,   2145.]),\n",
       " array([0. , 0.1, 0.2, 0.3, 0.4, 0.5, 0.6, 0.7, 0.8, 0.9, 1. ]),\n",
       " <BarContainer object of 10 artists>)"
      ]
     },
     "execution_count": 29,
     "metadata": {},
     "output_type": "execute_result"
    },
    {
     "data": {
      "image/png": "[encoded data removed]",
      "text/plain": [
       "<Figure size 432x288 with 1 Axes>"
      ]
     },
     "metadata": {
      "needs_background": "light"
     },
     "output_type": "display_data"
    }
   ],
   "source": [
    "plt.hist(test['is_fraud'])"
   ]
  },
  {
   "cell_type": "code",
   "execution_count": 30,
   "id": "a022a7f4",
   "metadata": {},
   "outputs": [],
   "source": [
    "y_test=pd.read_csv('data/y_test.csv',index_col=0)"
   ]
  },
  {
   "cell_type": "code",
   "execution_count": 31,
   "id": "70425ab4",
   "metadata": {},
   "outputs": [
    {
     "data": {
      "text/plain": [
       "(array([553574.,      0.,      0.,      0.,      0.,      0.,      0.,\n",
       "             0.,      0.,   2145.]),\n",
       " array([0. , 0.1, 0.2, 0.3, 0.4, 0.5, 0.6, 0.7, 0.8, 0.9, 1. ]),\n",
       " <BarContainer object of 10 artists>)"
      ]
     },
     "execution_count": 31,
     "metadata": {},
     "output_type": "execute_result"
    },
    {
     "data": {
      "image/png": "[encoded data removed]",
      "text/plain": [
       "<Figure size 432x288 with 1 Axes>"
      ]
     },
     "metadata": {
      "needs_background": "light"
     },
     "output_type": "display_data"
    }
   ],
   "source": [
    "plt.hist(y_test)"
   ]
  },
  {
   "cell_type": "code",
   "execution_count": null,
   "id": "45b58c11",
   "metadata": {},
   "outputs": [],
   "source": []
  }
 ],
 "metadata": {
  "kernelspec": {
   "display_name": "Python 3",
   "language": "python",
   "name": "python3"
  },
  "language_info": {
   "codemirror_mode": {
    "name": "ipython",
    "version": 3
   },
   "file_extension": ".py",
   "mimetype": "text/x-python",
   "name": "python",
   "nbconvert_exporter": "python",
   "pygments_lexer": "ipython3",
   "version": "3.8.8"
  }
 },
 "nbformat": 4,
 "nbformat_minor": 5
}
